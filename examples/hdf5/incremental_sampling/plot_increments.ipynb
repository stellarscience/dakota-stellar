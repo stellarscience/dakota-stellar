{
 "cells": [
  {
   "cell_type": "markdown",
   "metadata": {},
   "source": [
    "# Purpose\n",
    "This example demonstrates extracting statistics computed by an incremental sampling study from Dakota's HDF5 output and then plotting them.\n",
    "\n",
    "The simulation that Dakota runs is the `text_book` function, which is documented in both the User's and Reference Manuals. There are four normally distributed variables, **x1**-**x4**, and one response, **f**. The method was assigned the ID \"my_sampling\".\n",
    "\n",
    "To (re)generate the results output, run dakota -i dakota_refine.in."
   ]
  },
  {
   "cell_type": "markdown",
   "metadata": {},
   "source": [
    "---\n",
    "Begin by importing`h5py` and other required modules."
   ]
  },
  {
   "cell_type": "code",
   "execution_count": 44,
   "metadata": {},
   "outputs": [],
   "source": [
    "%matplotlib inline\n",
    "import h5py\n",
    "import numpy as np\n",
    "import matplotlib.pyplot as plt"
   ]
  },
  {
   "cell_type": "markdown",
   "metadata": {},
   "source": [
    "Our goal in this example is to examine how a few statistics converge as the number of samples is increased from 5 to 160. When the `refinement_samples` keyword is present, results from a sampling study are nested in groups named `increment:<N>`, where `<N>` is an integer index (beginning with 1) for the refinement."
   ]
  },
  {
   "cell_type": "markdown",
   "metadata": {},
   "source": [
    "## Moments"
   ]
  },
  {
   "cell_type": "markdown",
   "metadata": {},
   "source": [
    "Let's first examine the mean and standard deviation of **f** and their 95% confidence bounds. These are stored in the datasets\n",
    "* `increment<N>/moments/f`: 1D dataset contaiing the four moments: mean, standard deviation, skewness, and kurtosis\n",
    "* `increment<N>/moment_confidence_intervals/f`: 2D dataset containing the lower and upper confidence bounds on the mean and standard deviation\n",
    "\n",
    "Our approach will be to iterate the increment groups to collect the moment, standard deviation, and bounds into numpy arrays. Then we'll make the plots.\n",
    "\n"
   ]
  },
  {
   "cell_type": "code",
   "execution_count": 38,
   "metadata": {},
   "outputs": [],
   "source": [
    "# Use a context manager (i.e. \"with\") to ensure the file is closed properly\n",
    "with h5py.File(\"dakota_results.h5\",\"r\") as h:\n",
    "    # Create the results group object for convenience. Note that we specified 'my_sampling'\n",
    "    # as the id_method of our method in our Dakota input file.\n",
    "    results = h[\"/methods/my_sampling/execution:1\"]\n",
    "    # Get the number of increments\n",
    "    num_increments = len(results.keys())\n",
    "    num_samples = np.empty((num_increments,),int)  # store the number of samples in each increment\n",
    "    means = np.empty((num_increments,3)) # store the lower bound, mean, and upper bound\n",
    "    std_deviations = np.empty((num_increments,3)) # store the lower bound, standard deviation, and upper bound\n",
    "    # We must construct the names of the increment groups to make sure we get them in the right order:\n",
    "    for i in range(num_increments):\n",
    "        inc_group = results[\"increment:%d\" % (i+1,)]\n",
    "        # The number of samples in the increment is stored in the samples attribute of the group.\n",
    "        # (Also, the TOTAL number of samples is stored in the samples attribute of the execution group)\n",
    "        num_samples[i] = inc_group.attrs[\"samples\"]\n",
    "        # Means\n",
    "        means[i,0] = inc_group[\"moment_confidence_intervals/f\"][0,0]  # lower bound on the mean\n",
    "        means[i,1] = inc_group[\"moments/f\"][0] # mean\n",
    "        means[i,2] = inc_group[\"moment_confidence_intervals/f\"][1,0]  # upper bound on the mean\n",
    "        # Standard deviations\n",
    "        std_deviations[i,0] = inc_group[\"moment_confidence_intervals/f\"][0,1]  # lower bound on the std deviation\n",
    "        std_deviations[i,1] = inc_group[\"moments/f\"][1] # standard deviation\n",
    "        std_deviations[i,2] = inc_group[\"moment_confidence_intervals/f\"][1,1]  # upper bound on the std devaiation\n"
   ]
  },
  {
   "cell_type": "markdown",
   "metadata": {},
   "source": [
    "### Mean"
   ]
  },
  {
   "cell_type": "code",
   "execution_count": 39,
   "metadata": {},
   "outputs": [
    {
     "data": {
      "text/plain": [
       "[<matplotlib.lines.Line2D at 0x7f9008afc6a0>]"
      ]
     },
     "execution_count": 39,
     "metadata": {},
     "output_type": "execute_result"
    },
    {
     "data": {
      "image/png": "[encoded data removed]",
      "text/plain": [
       "<Figure size 432x288 with 1 Axes>"
      ]
     },
     "metadata": {},
     "output_type": "display_data"
    }
   ],
   "source": [
    "plt.title(\"Mean\")\n",
    "plt.xlabel(\"samples\")\n",
    "plt.ylabel(\"f\")\n",
    "plt.plot(num_samples,means[:,1],\"+-\", label=\"mean\")\n",
    "plt.plot(num_samples,means[:,0],\"+-\", label=\"lower\")\n",
    "plt.plot(num_samples,means[:,2],\"+-\", label=\"upper\")\n"
   ]
  },
  {
   "cell_type": "markdown",
   "metadata": {},
   "source": [
    "### Standard Deviation"
   ]
  },
  {
   "cell_type": "code",
   "execution_count": 40,
   "metadata": {},
   "outputs": [
    {
     "data": {
      "text/plain": [
       "[<matplotlib.lines.Line2D at 0x7f90088a8278>]"
      ]
     },
     "execution_count": 40,
     "metadata": {},
     "output_type": "execute_result"
    },
    {
     "data": {
      "image/png": "[encoded data removed]",
      "text/plain": [
       "<Figure size 432x288 with 1 Axes>"
      ]
     },
     "metadata": {},
     "output_type": "display_data"
    }
   ],
   "source": [
    "plt.title(\"std_deviations\")\n",
    "plt.xlabel(\"samples\")\n",
    "plt.ylabel(\"f\")\n",
    "plt.plot(num_samples,std_deviations[:,1],\"+-\", label=\"Standard Devaiation\")\n",
    "plt.plot(num_samples,std_deviations[:,0],\"+-\", label=\"lower\")\n",
    "plt.plot(num_samples,std_deviations[:,2],\"+-\", label=\"upper\")\n"
   ]
  },
  {
   "cell_type": "markdown",
   "metadata": {},
   "source": [
    "## Probability Levels\n",
    "\n",
    "The study also computed the 90th percentile on **f**."
   ]
  },
  {
   "cell_type": "code",
   "execution_count": 41,
   "metadata": {},
   "outputs": [],
   "source": [
    "# Use a context manager (i.e. \"with\") to ensure the file is closed properly\n",
    "with h5py.File(\"dakota_results.h5\",\"r\") as h:\n",
    "    # Create the results group object for convenience. Note that we specified 'my_sampling'\n",
    "    # as the id_method of our method in our Dakota input file.\n",
    "    results = h[\"/methods/my_sampling/execution:1\"]\n",
    "    # Get the number of increments\n",
    "    num_increments = len(results.keys())\n",
    "    num_samples = np.empty((num_increments,),int)  # store the number of samples in each increment\n",
    "    plevels = np.empty((num_increments,)) # store the percentile for each increment\n",
    "    # We must construct the names of the increment groups to make sure we get them in the right order:\n",
    "    for i in range(num_increments):\n",
    "        inc_group = results[\"increment:%d\" % (i+1,)]\n",
    "        # The number of samples in the increment is stored in the samples attribute of the group.\n",
    "        # (Also, the TOTAL number of samples is stored in the samples attribute of the execution group)\n",
    "        num_samples[i] = inc_group.attrs[\"samples\"]\n",
    "        # percentile\n",
    "        plevels[i] = inc_group[\"probability_levels/f\"][0] # standard deviation\n",
    "    # To make this code snippet more generic, get the actual requested probability_level from the\n",
    "    # first increment. This information is stored in a dimension scale on the dataset. It's the scale\n",
    "    # for the 0th dimension, the 0th scale on that dimension, and the 0th item in that scale: dims[0][0][0]\n",
    "    req_level = results[\"increment:1/probability_levels/f\"].dims[0][0][0]\n",
    "        "
   ]
  },
  {
   "cell_type": "code",
   "execution_count": 42,
   "metadata": {},
   "outputs": [
    {
     "data": {
      "text/plain": [
       "[<matplotlib.lines.Line2D at 0x7f90088c47f0>]"
      ]
     },
     "execution_count": 42,
     "metadata": {},
     "output_type": "execute_result"
    },
    {
     "data": {
      "image/png": "[encoded data removed]",
      "text/plain": [
       "<Figure size 432x288 with 1 Axes>"
      ]
     },
     "metadata": {},
     "output_type": "display_data"
    }
   ],
   "source": [
    "plt.title(\"%gth Percentile\" % (100.0*req_level,))\n",
    "plt.xlabel(\"samples\")\n",
    "plt.ylabel(\"f\")\n",
    "plt.plot(num_samples,plevels,\"+-\", label=\"lower\")\n",
    "\n"
   ]
  },
  {
   "cell_type": "code",
   "execution_count": null,
   "metadata": {},
   "outputs": [],
   "source": []
  },
  {
   "cell_type": "code",
   "execution_count": null,
   "metadata": {},
   "outputs": [],
   "source": []
  }
 ],
 "metadata": {
  "kernelspec": {
   "display_name": "Python [conda env:python35]",
   "language": "python",
   "name": "conda-env-python35-py"
  },
  "language_info": {
   "codemirror_mode": {
    "name": "ipython",
    "version": 3
   },
   "file_extension": ".py",
   "mimetype": "text/x-python",
   "name": "python",
   "nbconvert_exporter": "python",
   "pygments_lexer": "ipython3",
   "version": "3.5.5"
  }
 },
 "nbformat": 4,
 "nbformat_minor": 2
}
