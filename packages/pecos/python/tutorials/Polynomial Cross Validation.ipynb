{
 "cells": [
  {
   "cell_type": "markdown",
   "metadata": {},
   "source": [
    "# Cross Validation\n",
    "Cross validation can be used to estimte the error in an approximation. Following Hastie, let $\\hat{f}$ denote an approximation of\n",
    "a function $f$ built using training data \n",
    "\n",
    "$$\\mathcal{X}_{train}=\\{X_{train},Y_{train}=f(X_{train})\\}$$\n",
    "\n",
    "and let $L(Y,\\hat{f}(X))$ denote a loss function use to measure errors in the approximation. Here we will use\n",
    "\n",
    "$$L(Y,\\hat{f}(X))=(Y-\\hat{f}(X))^2$$\n",
    "\n",
    "Ideally we would like to compute the prediction error over an independent test data $\\mathcal{X}_{test}$, i.e.\n",
    "\n",
    "$$Err_\\mathcal{X}=\\operatorname{E}_{\\mathcal{X}_{test}}[L(f(\\mathcal{X}_{test}),\n",
    "\\hat{f}(\\mathcal{X}_{test},p)\\mid\\mathcal{X_{train}})].$$\n",
    "\n",
    "which is the error for the specific training set $\\mathcal{X}_train$.\n",
    "When evaluating $f$ is expensive, however, computing an independent test set may not be possible. Instead\n",
    "of using function evaluations for approximating error we could use them to futher improve the accuracy of \n",
    "the approximation. However if we do this we can not longer compute $Err_\\mathcal{X}$.\n",
    "\n",
    "Cross validation can be used to approximate the related quantity, known as the expected prediction error. \n",
    "This quantity averages over everything that is random, i.e. the training and test data.\n",
    "\n",
    "$$Err=\\operatorname{E}_\\mathcal{X_{train}}[Err_\\mathcal{X}]$$\n",
    "\n",
    "The training error, which is the loss computed the training data\n",
    "\n",
    "$$\\bar{err}=\\frac{1}{M}\\sum_{i=1}^M L(y_i,\\hat{f}(x_i))$$ is incorrectly used to estimate prediction error.\n",
    "Training error decrease with model complexity. If we contsruct an interpolant of $f$ the training error will be zero\n",
    "by construction, however the model will likely overfit the training data and will under estimate the prediction error.\n",
    "\n",
    "The cross validation can be used to estimate the prediction error when gnerating an independent test set is not \n",
    "feasiable. K-folds cross validation uses all the available training data to construct the approximation. \n",
    "Speficially the data is split into K roughly sized sets. The partition is constructed randomly without replacement.\n",
    "K-1 sets are used to train the approximation and the remaining\n",
    "data is used to estimate the prediction error. This procedure is repeated for K times, starting by holding out 1st data set,\n",
    "then holding out the second data set and so on. Once complete the K estimates of the \n",
    "prediction error are combined. \n",
    "\n",
    "Let $\\hat{f}^{-k}$ denote the approximation trained with the kth data set removed\n",
    "then the cross validation error is given by\n",
    "\n",
    "$$CV(\\hat{f})=\\frac{1}{M}\\sum_{i=1}^M L(y_i,\\hat{f}^{-\\kappa(i)}(x_i)).$$\n",
    "\n",
    "Here $\\kappa: \\{1,\\ldots,M\\}\\rightarrow \\{1,\\ldots,K\\}$ denotes an indexing function that return the \n",
    "number of the partition to which the ith data obervation belongs.\n",
    "\n",
    "Asymptotically cross validation is an unbiased estimate of the expected prediction error $Err$. \n",
    "The bias decreases with as the number of samples $M$ increases\n",
    "Leave one out cross validation, $K=M$ and $\\kappa(i)=i$ has the smallest bias for a fixed $M$, however the\n",
    "variance can be large. For a given data set $\\mathcal{X}_{train}$ each of the training sets will be very similar. \n",
    "Thus the estimate of $CV$ will be very dependent on $\\mathcal{X}_{train}$ thus producing a lot of variability when \n",
    "$\\mathcal{X}_{train}$ is varied. Setting $K=10$ will result in a smaller variance, but a larger bias for small \n",
    "number of samples $M$. Five- or tenfold cross-validation can be a good compromise between bias and variance \n",
    "-see Breiman and Spector (1992) and Kohavi (1995).\n",
    "\n"
   ]
  },
  {
   "cell_type": "markdown",
   "metadata": {},
   "source": [
    "## Initialize the environment"
   ]
  },
  {
   "cell_type": "code",
   "execution_count": 2,
   "metadata": {
    "collapsed": true
   },
   "outputs": [],
   "source": [
    "%load_ext autoreload\n",
    "%autoreload 2\n",
    "\n",
    "from PyDakota.regression import *\n",
    "from PyDakota.models.genz import GenzFunction\n",
    "from PyDakota.approximation import *\n",
    "from PyDakota.math_tools import compute_hyperbolic_indices\n",
    "from multiprocessing import Pool\n",
    "import time\n",
    "from scipy.misc import comb\n",
    "from functools import partial\n",
    "#import numpy\n",
    "\n",
    "numpy.random.seed(3)\n",
    "\n",
    "import matplotlib as mpl\n",
    "import matplotlib.pyplot as plt\n",
    "mpl.rcParams['lines.linewidth'] = 3\n",
    "mpl.rcParams['text.usetex'] = True # use latex for all text handling\n",
    "mpl.rcParams['savefig.bbox'] = 'tight'\n",
    "mpl.rcParams['axes.labelsize'] = 16\n",
    "mpl.rcParams['axes.titlesize'] = 20\n",
    "mpl.rcParams['xtick.labelsize'] = 20\n",
    "mpl.rcParams['ytick.labelsize'] = 20\n",
    "mpl.rcParams['text.latex.preamble'] = [r'\\usepackage{siunitx}', r'\\usepackage{amsmath}']\n",
    "\n",
    "# to just create static png plots use \n",
    "%matplotlib inline\n",
    "\n",
    "# to allow interactive plots use \n",
    "# %matplotlib notebook\n",
    "\n",
    "# use jupyter nbconvert --to python <notebook_name.ipynb> to convert to python script\n",
    "\n",
    "# if having trouble with errors like cannot import _backports go to Kernel toolbar\n",
    "# and select Restart & Clear Output"
   ]
  },
  {
   "cell_type": "markdown",
   "metadata": {},
   "source": [
    "## Define function we want to approximate\n",
    "We will use the oscillstory frunction from the Genz integration test suite.\n",
    "$$f(x)=cos\\left(2\\pi w_1+\\sum_{i=1}^d c_i x_i\\right),\\quad x\\in[0,1]^d$$\n",
    "where we set $$w_1=0, \\quad c_i=\\frac{i-0.5}{d}K, \\quad K=C\\sum_{i=1}^d c_i, \\quad C=10$$"
   ]
  },
  {
   "cell_type": "code",
   "execution_count": 3,
   "metadata": {
    "collapsed": true
   },
   "outputs": [],
   "source": [
    "num_vars = 2\n",
    "variables = BoundedVariables()\n",
    "ranges = define_homogeneous_ranges(num_vars, 0., 1.);\n",
    "variables.set_ranges(ranges)\n",
    "\n",
    "function = GenzFunction('oscillatory',num_vars)\n",
    "function.set_coefficients(10., 'no-decay')"
   ]
  },
  {
   "cell_type": "markdown",
   "metadata": {},
   "source": [
    "## Initialize the approximation\n",
    "Dakota supports many approximation methods. Here we focus on how to build a total-degree multivariate polynomial approximation\n",
    "\n",
    "$$f(x)\\approx p(T(x))=p(u)=\\sum_{\\|\\lambda\\|_1\\le 10} c_\\lambda\\phi_\\lambda(u).$$ \n",
    "\n",
    "To define a 3rd order total degree monomial approximation run"
   ]
  },
  {
   "cell_type": "code",
   "execution_count": 4,
   "metadata": {},
   "outputs": [],
   "source": [
    "# Define variable transformation T\n",
    "var_transform = AffineVariableTransformation()\n",
    "var_transform.set_variables(variables)\n",
    "\n",
    "from PyDakota.univariate_polynomials import LEGENDRE_ORTHOG\n",
    "basis_types = numpy.asarray([LEGENDRE_ORTHOG]*num_vars,dtype=numpy.int32)\n",
    "opts = {'poly_type':PCE,'basis_types':basis_types}\n",
    "approx = polynomial_approximation_factory(var_transform, opts)\n",
    "\n",
    "degree = 10\n",
    "basis_indices = compute_hyperbolic_indices(num_vars, degree, 1.)\n",
    "approx.set_basis_indices(basis_indices)"
   ]
  },
  {
   "cell_type": "markdown",
   "metadata": {},
   "source": [
    "## Set up the cross validation\n",
    "PyDakota provides a object to solve linear systems using cross validation. \n",
    "We want to repeat cross validation many times so lets create some functions to help us do this. The function\n",
    "cross_validated_solve returns the cross validation error $CV$"
   ]
  },
  {
   "cell_type": "code",
   "execution_count": 5,
   "metadata": {
    "collapsed": true
   },
   "outputs": [],
   "source": [
    "def cross_validated_solve(basis_matrix, training_function_vals,\n",
    "                          regression_type, regression_opts, seed):\n",
    "    regression_opts['cv-opts']['seed']=seed\n",
    "    cv_solver = CrossValidatedSolver()\n",
    "    cv_solver.set_linear_system_solver(regression_type)\n",
    "    cv_solver.solve(basis_matrix, training_function_vals, regression_opts)\n",
    "    scores = cv_solver.get_best_scores()\n",
    "    solutions = cv_solver.get_final_solutions()\n",
    "    return scores, solutions\n",
    "\n",
    "def cross_validated_solve_helper(args):\n",
    "    return cross_validated_solve(*args)"
   ]
  },
  {
   "cell_type": "markdown",
   "metadata": {},
   "source": [
    "Now lets perform cross validation for many different training sets. We will use Python's multiprocessing.Pool function\n",
    "to do the cross validation on each training data independently. Note we are not computing the approximation on each fold,\n",
    "for a given data set, indendently"
   ]
  },
  {
   "cell_type": "code",
   "execution_count": 6,
   "metadata": {},
   "outputs": [
    {
     "name": "stdout",
     "output_type": "stream",
     "text": [
      "that_took: 2.84949398041\n",
      "that_took: 2.06364703178\n"
     ]
    }
   ],
   "source": [
    "import multiprocessing\n",
    "from multiprocessing import Pool\n",
    "import time\n",
    "\n",
    "num_training_samples = 2*basis_indices.shape[1]\n",
    "num_folds = 10;\n",
    "regression_type=SVD_LEAST_SQ_REGRESSION\n",
    "function_opts = {'eval_type':'value-grad'}\n",
    "cv_opts = {'num-points':num_training_samples,'num-folds':num_folds}\n",
    "regression_opts = {'verbosity':0,'cv-opts':cv_opts,'store-history':True}\n",
    "\n",
    "num_trials = 1000;\n",
    "t0 = time.time()\n",
    "max_eval_concurrency=10\n",
    "# Using max_eval_concurrency>1 is slower than using max_eval_concurrency=1\n",
    "# I think this has something to do with OMP_NUM_THREADS used by NumPy\n",
    "# if want to use\n",
    "# max_eval_concurrency=max(multiprocessing.cpu_count(),1)\n",
    "# open tutorial with OMP_NUM_THREADS=1 jupyter notebook Polynomial Cross Validation.ipynb\n",
    "\n",
    "pool = Pool(max_eval_concurrency)\n",
    "args = []\n",
    "seeds = numpy.random.permutation(numpy.arange(1,10*num_trials))[:num_trials]\n",
    "for i in range(num_trials):\n",
    "    training_samples = numpy.random.uniform(0,1,(num_vars,num_training_samples))\n",
    "    training_function_vals = function.value(training_samples,function_opts)\n",
    "    basis_matrix = approx.generate_basis_matrix(training_samples)\n",
    "    args.append([basis_matrix,training_function_vals,regression_type,regression_opts,seeds[i]])\n",
    "print 'that_took:', time.time()-t0\n",
    "t0 = time.time()\n",
    "result = numpy.asarray(pool.map(cross_validated_solve_helper,args))\n",
    "print 'that_took:', time.time()-t0"
   ]
  },
  {
   "cell_type": "markdown",
   "metadata": {},
   "source": [
    "Now we want to compare the cross validation error with the RMSE error for each training set. We do this by \n",
    "evaluting the approximations, computed for each training set, on a set of validation data not used for training."
   ]
  },
  {
   "cell_type": "code",
   "execution_count": 7,
   "metadata": {},
   "outputs": [
    {
     "name": "stdout",
     "output_type": "stream",
     "text": [
      "that_took: 5.14975714684\n"
     ]
    }
   ],
   "source": [
    "num_validation_samples = 1000\n",
    "validation_samples = numpy.random.uniform(0,1,(num_vars,num_validation_samples))\n",
    "validation_vals = function.value(validation_samples,function_opts)\n",
    "\n",
    "t0 = time.time()    \n",
    "mse = []\n",
    "cv_scores = []\n",
    "for i in range(num_trials):\n",
    "    cv_scores_i, solutions = result[i]\n",
    "    cv_scores.append(cv_scores_i)\n",
    "    approx.set_coefficients(solutions)\n",
    "    approx_validation_vals = approx.value(validation_samples)\n",
    "    mse.append(numpy.linalg.norm(approx_validation_vals-validation_vals,axis=0)**2/num_validation_samples)\n",
    "mse = numpy.asarray(mse)\n",
    "cv_scores = numpy.asarray(cv_scores)\n",
    "print 'that_took:', time.time()-t0"
   ]
  },
  {
   "cell_type": "markdown",
   "metadata": {},
   "source": [
    "Now lets plot the cross validation error $CV$ vs the $Err_\\mathcal{X}$"
   ]
  },
  {
   "cell_type": "code",
   "execution_count": 8,
   "metadata": {},
   "outputs": [
    {
     "data": {
      "image/png": "[encoded data removed]",
      "text/plain": [
       "<matplotlib.figure.Figure at 0x7f9ab94304d0>"
      ]
     },
     "metadata": {},
     "output_type": "display_data"
    }
   ],
   "source": [
    "num_bins=100\n",
    "num_rhs = mse[0].shape[0]\n",
    "f,axs=plt.subplots(1,num_rhs,sharey=True,figsize=(16, 6))\n",
    "axs = axs.ravel()\n",
    "for j in range(num_rhs):\n",
    "    bins=numpy.logspace(numpy.log10(mse[:,j].min()),numpy.log10(mse[:,j].max()), num_bins)\n",
    "    n, bins, patches = axs[j].hist(mse[:,j], bins=bins, normed=None, facecolor='green', alpha=0.5,label='Err')\n",
    "    bins=numpy.logspace(numpy.log10(cv_scores[:,j].min()),numpy.log10(cv_scores[:,j].max()), num_bins)\n",
    "    n, bins, patches = axs[j].hist(cv_scores[:,j], bins=bins, normed=None, facecolor='blue', alpha=0.75,label='CV score')\n",
    "    axs[j].set_xscale(\"log\")"
   ]
  },
  {
   "cell_type": "code",
   "execution_count": null,
   "metadata": {
    "collapsed": true
   },
   "outputs": [],
   "source": []
  }
 ],
 "metadata": {
  "kernelspec": {
   "display_name": "Python 2",
   "language": "python",
   "name": "python2"
  },
  "language_info": {
   "codemirror_mode": {
    "name": "ipython",
    "version": 2
   },
   "file_extension": ".py",
   "mimetype": "text/x-python",
   "name": "python",
   "nbconvert_exporter": "python",
   "pygments_lexer": "ipython2",
   "version": "2.7.13"
  }
 },
 "nbformat": 4,
 "nbformat_minor": 2
}
