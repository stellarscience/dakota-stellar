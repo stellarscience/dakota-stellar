{
 "cells": [
  {
   "cell_type": "markdown",
   "metadata": {},
   "source": [
    "# Building an monomial approximation of a function \n",
    "$$f(x):\\mathbb{R}^d\\rightarrow\\mathbb{R}^q$$"
   ]
  },
  {
   "cell_type": "markdown",
   "metadata": {},
   "source": [
    "## Environment setup"
   ]
  },
  {
   "cell_type": "code",
   "execution_count": 1,
   "metadata": {
    "collapsed": true
   },
   "outputs": [],
   "source": [
    "# Reload all modules (except those excluded by %aimport) every time before executing the Python code typed. \n",
    "# Only necessary when using notebook\n",
    "%load_ext autoreload\n",
    "%autoreload 2\n",
    "from PyDakota.approximation import *"
   ]
  },
  {
   "cell_type": "markdown",
   "metadata": {},
   "source": [
    "## Specifying the function variables \n",
    "$$x=(x_1,\\ldots,x_d)\\in \\mathcal{X}\\subseteq\\mathbb{R}^d$$\n",
    "\n",
    "Let us consider a function of two variables defined on the unit square, i.e. $\\mathcal{X}=[0,1]^d$"
   ]
  },
  {
   "cell_type": "code",
   "execution_count": 2,
   "metadata": {
    "collapsed": true
   },
   "outputs": [],
   "source": [
    "num_vars = 2\n",
    "variables = BoundedVariables()\n",
    "ranges = define_homogeneous_ranges(num_vars, 0., 1.);\n",
    "variables.set_ranges(ranges)"
   ]
  },
  {
   "cell_type": "markdown",
   "metadata": {},
   "source": [
    "## Defining the function we want to approximate\n",
    "Dakota provides a consistent interface to all functions and approximations. A standard python function can be wrapped using the PyFunction class. For example here we create a wrapper of the function $$f(x)=(f_1,f_2)^T,\\quad f_j=\\sum_{i=1}^d (jx_i^2+(j+1)x_i)+j$$"
   ]
  },
  {
   "cell_type": "code",
   "execution_count": 3,
   "metadata": {
    "collapsed": true
   },
   "outputs": [],
   "source": [
    "additive_quadratic_function = lambda x: numpy.sum(x**2)*numpy.arange(1,3) + numpy.sum(x)*numpy.arange(2,4) + numpy.arange(1,3)\n",
    "function = PyFunction(additive_quadratic_function)"
   ]
  },
  {
   "cell_type": "markdown",
   "metadata": {},
   "source": [
    "## Specifying the variable transformation \n",
    "$$T:\\mathcal{X}\\rightarrow \\mathcal{U}$$\n",
    "\n",
    "Often an approximation is not defined over the user defined variable space $\\mathcal{X}$ but over another space $\\mathcal{U}$. This is often done to enhance the numerical stability of the approximation or to facilitate the use of simpler approximations. For instance it usually best practice to convert a set of correlated Normal variables into a set of independent Normal variables using the tranformation \n",
    "\n",
    "$$T(x)=Lx$$ \n",
    "\n",
    "where $L$ is the Cholesky factor of the covariance of the correlated variables.\n",
    "\n",
    "In this case the monomial approximation is always defined on $\\mathcal{U}=[-1,1]^d$ so lets define a transformation\n",
    "\n",
    "$$T:[0,1]^d\\rightarrow[-1,1]^d$$"
   ]
  },
  {
   "cell_type": "code",
   "execution_count": 4,
   "metadata": {
    "collapsed": true
   },
   "outputs": [],
   "source": [
    "var_transform = AffineVariableTransformation()\n",
    "var_transform.set_variables(variables)"
   ]
  },
  {
   "cell_type": "markdown",
   "metadata": {},
   "source": [
    "## Defining the approximation\n",
    "Dakota supports many approximation methods. Here we focus on how to build a total-degree multivariate polynomial approximation\n",
    "\n",
    "$$f(x)\\approx p(T(x))=p(u)=\\sum_{\\|\\lambda\\|_1\\le 3} c_\\lambda\\phi_\\lambda(u).$$ \n",
    "\n",
    "To define a 3rd order total degree monomial approximation run\n"
   ]
  },
  {
   "cell_type": "code",
   "execution_count": 5,
   "metadata": {
    "collapsed": true
   },
   "outputs": [],
   "source": [
    "from PyDakota.math_tools import compute_hyperbolic_indices\n",
    "degree = 3\n",
    "approx = Monomial()\n",
    "approx.set_variable_transformation(var_transform)\n",
    "basis_indices = compute_hyperbolic_indices(num_vars, degree, 1.)\n",
    "approx.set_basis_indices(basis_indices)"
   ]
  },
  {
   "cell_type": "markdown",
   "metadata": {},
   "source": [
    "## Building the approximation using least-squares\n",
    "Dakota supports a number of methods to compute the polynomial coefficients. Here we will use least-squares. Specifically we evaluate the function at a set of samples $X=[x^{(1)},\\ldots,x^{(M)}]$ to obtain a set of function values $Y=[f^{(1)},\\ldots,f^{(M)}]^T$. The function may be vectored valued and thus each $f^{(i)}\\in\\mathbb{R}^Q$ is a vector and $Y\\in\\mathbb{R}^{M\\times Q}$ is a matrix.\n",
    "\n",
    "These function values can the be used to approximate the polynomial coefficients using least squares system \n",
    "\n",
    "$$\\Phi c=Y,$$ \n",
    "\n",
    "where entries of the basis matrix $\\Phi\\in\\mathbb{R}^{M\\times N}$ are given by $\\Phi_{ij}=\\phi_j(x^{(i)})$. \n",
    "\n",
    "Here we will use QR factorization to solve the least squares problem."
   ]
  },
  {
   "cell_type": "code",
   "execution_count": 6,
   "metadata": {
    "collapsed": true
   },
   "outputs": [],
   "source": [
    "from PyDakota.math_tools import qr_solve, NO_TRANS\n",
    "num_build_samples = 2*basis_indices.shape[1]\n",
    "build_samples = numpy.random.uniform(0,1,(num_vars,num_build_samples))\n",
    "build_function_vals = function.value(build_samples)\n",
    "basis_matrix = approx.generate_basis_matrix(build_samples)\n",
    "coeffs = qr_solve(basis_matrix,build_function_vals,NO_TRANS)\n",
    "approx.set_coefficients(coeffs)"
   ]
  },
  {
   "cell_type": "markdown",
   "metadata": {},
   "source": [
    "## Taking advantage of Dakota approximation drivers\n",
    "Dakota provides a number of algorithms for building approximation called drivers. These drivers essentially hide the details shown in the previous code block so that an approximation can just be built using"
   ]
  },
  {
   "cell_type": "code",
   "execution_count": 7,
   "metadata": {
    "collapsed": true
   },
   "outputs": [],
   "source": [
    "from PyDakota.approximation import QR_LSQ, regression_driver\n",
    "opts = {'num_samples':2*basis_indices.shape[1], 'solver_type':QR_LSQ,'sample_type':'probabilistic_MC'}\n",
    "result = regression_driver(function,approx,opts) # approx is modified in place\n",
    "# result contains any data used to build the approx, some of which may be passed in through opts, also info about regression solve"
   ]
  },
  {
   "cell_type": "markdown",
   "metadata": {},
   "source": [
    "## Interrogating the approximation \n",
    "Now we have built the approximation we can use it in replace of the true function. Here we show how to plot the approximation response surface."
   ]
  },
  {
   "cell_type": "code",
   "execution_count": 8,
   "metadata": {
    "scrolled": true
   },
   "outputs": [
    {
     "name": "stdout",
     "output_type": "stream",
     "text": [
      "Populating the interactive namespace from numpy and matplotlib\n"
     ]
    },
    {
     "data": {
      "image/png": "[encoded data removed]",
      "text/plain": [
       "<matplotlib.figure.Figure at 0x7f474a151950>"
      ]
     },
     "metadata": {},
     "output_type": "display_data"
    },
    {
     "data": {
      "text/plain": [
       "<matplotlib.axes._subplots.Axes3DSubplot at 0x7f4742ead390>"
      ]
     },
     "execution_count": 8,
     "metadata": {},
     "output_type": "execute_result"
    }
   ],
   "source": [
    "%pylab inline\n",
    "from utilities.visualisation import plot_surface_from_function\n",
    "plot_surface_from_function(approx.value,ranges)"
   ]
  },
  {
   "cell_type": "markdown",
   "metadata": {},
   "source": [
    "## Unit testing\n",
    "The following checks that the approximation behaves as desired. This code does not need to be run by the user, but is intended to aid automated testing of this notebook"
   ]
  },
  {
   "cell_type": "code",
   "execution_count": 13,
   "metadata": {
    "collapsed": true
   },
   "outputs": [],
   "source": [
    "num_test_samples = 100\n",
    "test_samples = numpy.random.uniform(0,1,(num_vars,num_test_samples))\n",
    "test_function_vals = function.value(test_samples)\n",
    "approx_vals = approx.value(test_samples)\n",
    "assert numpy.allclose(approx_vals,test_function_vals)"
   ]
  }
 ],
 "metadata": {
  "anaconda-cloud": {},
  "kernelspec": {
   "display_name": "Python 2",
   "language": "python",
   "name": "python2"
  },
  "language_info": {
   "codemirror_mode": {
    "name": "ipython",
    "version": 2
   },
   "file_extension": ".py",
   "mimetype": "text/x-python",
   "name": "python",
   "nbconvert_exporter": "python",
   "pygments_lexer": "ipython2",
   "version": "2.7.13"
  }
 },
 "nbformat": 4,
 "nbformat_minor": 1
}
