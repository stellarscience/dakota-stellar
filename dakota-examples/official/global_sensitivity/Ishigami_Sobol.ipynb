{
 "cells": [
  {
   "cell_type": "markdown",
   "metadata": {},
   "source": [
    "# Analytical Variance Based Decomposition\n",
    "\n",
    "This is the calculation of the analytical variance based decomposition values. The math is not explained in detail and is only included for reference.\n",
    "\n",
    "It required SymPy to run"
   ]
  },
  {
   "cell_type": "code",
   "execution_count": null,
   "metadata": {
    "collapsed": true
   },
   "outputs": [],
   "source": [
    "from sympy import *\n",
    "init_printing()"
   ]
  },
  {
   "cell_type": "code",
   "execution_count": null,
   "metadata": {},
   "outputs": [],
   "source": [
    "x,y,z,a,b = symbols('x y z a b')\n",
    "F = sin(x) + a*sin(y)**2 + b*z**4*sin(x)\n",
    "F"
   ]
  },
  {
   "cell_type": "code",
   "execution_count": null,
   "metadata": {
    "collapsed": true
   },
   "outputs": [],
   "source": [
    "def inner(F,*xyz):\n",
    "    \"\"\"Compute the inner product over the dims\"\"\"\n",
    "    return simplify(integrate(F/((2*pi)**len(xyz)),*[(p,-pi,pi) for p in xyz]))"
   ]
  },
  {
   "cell_type": "markdown",
   "metadata": {},
   "source": [
    "# Sobol Decomp\n",
    "\n",
    "This isn't really needed but is worth the demonstration"
   ]
  },
  {
   "cell_type": "code",
   "execution_count": null,
   "metadata": {},
   "outputs": [],
   "source": [
    "F0 = inner(F,x,y,z)\n",
    "F0"
   ]
  },
  {
   "cell_type": "code",
   "execution_count": null,
   "metadata": {},
   "outputs": [],
   "source": [
    "Fx = inner(F,y,z) - F0\n",
    "Fx"
   ]
  },
  {
   "cell_type": "code",
   "execution_count": null,
   "metadata": {},
   "outputs": [],
   "source": [
    "Fy = inner(F,x,z) - F0\n",
    "Fy"
   ]
  },
  {
   "cell_type": "code",
   "execution_count": null,
   "metadata": {},
   "outputs": [],
   "source": [
    "Fz = inner(F,x,y) - F0\n",
    "Fz"
   ]
  },
  {
   "cell_type": "code",
   "execution_count": null,
   "metadata": {},
   "outputs": [],
   "source": [
    "Fxy = inner(F,z) - Fx - Fy - F0\n",
    "Fxy"
   ]
  },
  {
   "cell_type": "code",
   "execution_count": null,
   "metadata": {},
   "outputs": [],
   "source": [
    "Fyz = inner(F,x) - Fy - Fz - F0\n",
    "Fyz"
   ]
  },
  {
   "cell_type": "code",
   "execution_count": null,
   "metadata": {},
   "outputs": [],
   "source": [
    "Fzx = inner(F,y) - Fz - Fx - F0\n",
    "Fzx"
   ]
  },
  {
   "cell_type": "code",
   "execution_count": null,
   "metadata": {},
   "outputs": [],
   "source": [
    "Fxyz = F - Fxy - Fyz - Fzx - Fx - Fy - Fz - F0\n",
    "Fxyz"
   ]
  },
  {
   "cell_type": "code",
   "execution_count": null,
   "metadata": {},
   "outputs": [],
   "source": [
    "F0 + Fx + Fy + Fz + Fxy + Fyz + Fzx + Fxyz"
   ]
  },
  {
   "cell_type": "code",
   "execution_count": null,
   "metadata": {
    "collapsed": true
   },
   "outputs": [],
   "source": [
    "def Var(FF,*xyz):\n",
    "    return simplify(inner(FF*FF- inner(FF,*xyz)**2,*xyz))"
   ]
  },
  {
   "cell_type": "code",
   "execution_count": null,
   "metadata": {},
   "outputs": [],
   "source": [
    "from collections import OrderedDict\n",
    "xy = x*y;yz=y*z;zx=z*x;xyz=x*y*z\n",
    "Vars = OrderedDict([(0,  Var(F0,x,y,z)),\n",
    "                    (x,  Var(Fx,x,y,z)),\n",
    "                    (y,  Var(Fy,x,y,z)),\n",
    "                    (z,  Var(Fz,x,y,z)),\n",
    "                    (xy, Var(Fxy,x,y,z)),\n",
    "                    (yz, Var(Fyz,x,y,z)),\n",
    "                    (zx, Var(Fzx,x,y,z)),\n",
    "                    (xyz,Var(Fxyz,x,y,z))])\n",
    "Vars"
   ]
  },
  {
   "cell_type": "code",
   "execution_count": null,
   "metadata": {},
   "outputs": [],
   "source": [
    "VF = Var(F,x,y,z)\n",
    "VarFrac = OrderedDict([(p,v/VF) for p,v in Vars.items()])\n",
    "VarFrac"
   ]
  },
  {
   "cell_type": "code",
   "execution_count": null,
   "metadata": {},
   "outputs": [],
   "source": [
    "for _ in VarFrac.items():\n",
    "    print(_)"
   ]
  },
  {
   "cell_type": "code",
   "execution_count": null,
   "metadata": {
    "collapsed": true,
    "scrolled": true
   },
   "outputs": [],
   "source": [
    "def Eval(F):\n",
    "    return F.evalf(subs={a:7.0,b:Rational(1,10)})"
   ]
  },
  {
   "cell_type": "code",
   "execution_count": null,
   "metadata": {},
   "outputs": [],
   "source": [
    "for p,v in VarFrac.items():\n",
    "    print(p,Eval(v))"
   ]
  },
  {
   "cell_type": "code",
   "execution_count": null,
   "metadata": {
    "collapsed": true
   },
   "outputs": [],
   "source": []
  },
  {
   "cell_type": "markdown",
   "metadata": {},
   "source": [
    "# Alternative\n",
    "\n",
    "Directly compute the integral\n",
    "\n",
    "Note \n",
    "\n",
    "$$E[f|x_i] = \\int_{x_{i\\sim}}f(x)dx_{i\\sim}$$\n",
    "\n",
    "and\n",
    "\n",
    "$$S_{x_i} = \\frac{V[ E[f|x_i] ]}{V[f]} = \\frac{E[E[f|x_i]^2] - E[E[F|x_i]]^2}{V[f]}$$\n",
    "\n",
    "and\n",
    "\n",
    "$$T_{x_i} = 1 - \\frac{V[E[f|x_{i\\sim}]]}{V[f]}$$"
   ]
  },
  {
   "cell_type": "code",
   "execution_count": null,
   "metadata": {
    "collapsed": true
   },
   "outputs": [],
   "source": [
    "def Egiven(F,*xyz):\n",
    "    \"\"\" E[F,x] or E given some value. You integrate over the others\"\"\"\n",
    "    xyz = {x,y,z} - set(xyz)\n",
    "    return inner(F,*xyz)\n",
    "\n",
    "def S(F,*xyz):\n",
    "    return Var(Egiven(F,*xyz),x,y,z)/Var(F,x,y,z)\n",
    "def T(F,*xyz):\n",
    "    xyz = {x,y,z} - set(xyz)\n",
    "    return 1 - S(F,*xyz)"
   ]
  },
  {
   "cell_type": "code",
   "execution_count": null,
   "metadata": {},
   "outputs": [],
   "source": [
    "Ss = [(xyz,S(F,xyz)) for xyz in [x,y,z]]\n",
    "Ss"
   ]
  },
  {
   "cell_type": "code",
   "execution_count": null,
   "metadata": {},
   "outputs": [],
   "source": [
    "[(xyz,Eval(s)) for xyz,s in Ss]"
   ]
  },
  {
   "cell_type": "code",
   "execution_count": null,
   "metadata": {},
   "outputs": [],
   "source": [
    "Ts = [(xyz,T(F,xyz)) for xyz in [x,y,z]]\n",
    "Ts"
   ]
  },
  {
   "cell_type": "code",
   "execution_count": null,
   "metadata": {},
   "outputs": [],
   "source": [
    "[(xyz,Eval(t)) for xyz,t in Ts]"
   ]
  },
  {
   "cell_type": "code",
   "execution_count": null,
   "metadata": {},
   "outputs": [],
   "source": [
    "for s in Ss:\n",
    "    dd = list(s) + [Eval(s[1])]\n",
    "    print(dd)\n",
    "for t in Ts:\n",
    "    dd = list(t) + [Eval(t[1])]\n",
    "    print(dd)"
   ]
  },
  {
   "cell_type": "code",
   "execution_count": null,
   "metadata": {
    "collapsed": true
   },
   "outputs": [],
   "source": []
  }
 ],
 "metadata": {
  "kernelspec": {
   "display_name": "Python 2",
   "language": "python",
   "name": "python2"
  },
  "language_info": {
   "codemirror_mode": {
    "name": "ipython",
    "version": 2
   },
   "file_extension": ".py",
   "mimetype": "text/x-python",
   "name": "python",
   "nbconvert_exporter": "python",
   "pygments_lexer": "ipython2",
   "version": "2.7.14"
  }
 },
 "nbformat": 4,
 "nbformat_minor": 2
}
