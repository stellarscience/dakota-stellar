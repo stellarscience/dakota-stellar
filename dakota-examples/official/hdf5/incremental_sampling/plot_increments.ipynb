{
 "cells": [
  {
   "cell_type": "markdown",
   "metadata": {},
   "source": [
    "# Purpose\n",
    "This example demonstrates how to access method results in Dakota's HDF5 output. Specifically, statistics computed by an incremental sampling study are plotted. In addition to numerical results, metadata (the number of samples, a probability level ) are extracted from a group attirbute and a dataset dimension scale. Complete details about the organization of results and evaluation data in Dakota's HDF5 output are available in the [Reference Manual](https://dakota.sandia.gov/content/latest-reference-manual). The [h5py](https://www.h5py.org/) documentation is also a valuable resource."
   ]
  },
  {
   "cell_type": "markdown",
   "metadata": {},
   "source": [
    "## Study Details\n",
    "\n",
    "The simulation that Dakota runs is the `text_book` function, which is documented in both the User's and Reference Manuals. There are four normally distributed variables, **x1**-**x4**, and one response, **f**. The method was assigned the ID \"my_sampling\".\n",
    "\n",
    "To (re)generate the results output, run `dakota -i dakota_refine.in`."
   ]
  },
  {
   "cell_type": "markdown",
   "metadata": {},
   "source": [
    "---\n",
    "Begin by importing`h5py` and other required modules."
   ]
  },
  {
   "cell_type": "code",
   "execution_count": 1,
   "metadata": {},
   "outputs": [],
   "source": [
    "%matplotlib inline\n",
    "import h5py\n",
    "import numpy as np\n",
    "import matplotlib.pyplot as plt"
   ]
  },
  {
   "cell_type": "markdown",
   "metadata": {},
   "source": [
    "In this example, we will examine how a few statistics converge as the number of samples is increased from 5 to 160. When the `refinement_samples` keyword is present, results from a sampling study are nested in groups named `increment:<N>`, where `<N>` is an integer index (beginning with 1) for the refinement."
   ]
  },
  {
   "cell_type": "markdown",
   "metadata": {},
   "source": [
    "## Moments"
   ]
  },
  {
   "cell_type": "markdown",
   "metadata": {},
   "source": [
    "Let's first examine the mean and standard deviation of **f** and their 95% confidence bounds. These are stored in the datasets\n",
    "* `increment<N>/moments/f`: 1D dataset contaiing the four moments: mean, standard deviation, skewness, and kurtosis\n",
    "* `increment<N>/moment_confidence_intervals/f`: 2D dataset containing the lower and upper confidence bounds on the mean and standard deviation\n",
    "\n",
    "Our approach will be to iterate the increment groups to collect the moment, standard deviation, and bounds into numpy arrays. Then we'll make the plots.\n",
    "\n"
   ]
  },
  {
   "cell_type": "code",
   "execution_count": 2,
   "metadata": {},
   "outputs": [],
   "source": [
    "# Use a context manager (i.e. \"with\") to ensure the file is closed properly\n",
    "with h5py.File(\"dakota_results.h5\",\"r\") as h:\n",
    "    # Create the results group object for convenience. Note that we specified 'my_sampling'\n",
    "    # as the id_method of our method in our Dakota input file.\n",
    "    results = h[\"/methods/my_sampling/results/execution:1\"]\n",
    "    # Get the number of increments\n",
    "    num_increments = len(results.keys())\n",
    "    num_samples = np.empty((num_increments,),int) # storage for the number of samples in\n",
    "                                                  # each increment\n",
    "    means = np.empty((num_increments,3))          # storage for the lower bound, mean, and \n",
    "                                                  # upper bound\n",
    "    std_deviations = np.empty((num_increments,3)) # storage for the lower bound, standard \n",
    "                                                  # deviation, and upper bound\n",
    "    # We must construct the names of the increment groups to make sure we get them in the right\n",
    "    # order:\n",
    "    for i in range(num_increments):\n",
    "        inc_group = results[\"increment:%d\" % (i+1,)]\n",
    "        # The number of samples in the increment is stored in the samples attribute of the group.\n",
    "        # (Also, the TOTAL number of samples is stored in the samples attribute of the execution\n",
    "        # group)\n",
    "        num_samples[i] = inc_group.attrs[\"samples\"]\n",
    "        # Means\n",
    "        means[i,0] = inc_group[\"moment_confidence_intervals/f\"][0,0]  # lower bound on the mean\n",
    "        means[i,1] = inc_group[\"moments/f\"][0] # mean\n",
    "        means[i,2] = inc_group[\"moment_confidence_intervals/f\"][1,0]  # upper bound on the mean\n",
    "        # Standard deviations\n",
    "        std_deviations[i,0] = inc_group[\"moment_confidence_intervals/f\"][0,1]  # lower boound on\n",
    "                                                                               # the std deviation\n",
    "        std_deviations[i,1] = inc_group[\"moments/f\"][1] # standard deviation\n",
    "        std_deviations[i,2] = inc_group[\"moment_confidence_intervals/f\"][1,1]  # upper bound on\n",
    "                                                                               # the std devaiation\n"
   ]
  },
  {
   "cell_type": "markdown",
   "metadata": {},
   "source": [
    "### Plot Mean"
   ]
  },
  {
   "cell_type": "code",
   "execution_count": 3,
   "metadata": {},
   "outputs": [
    {
     "data": {
      "text/plain": [
       "[<matplotlib.lines.Line2D at 0x7f82404d0e80>]"
      ]
     },
     "execution_count": 3,
     "metadata": {},
     "output_type": "execute_result"
    },
    {
     "data": {
      "image/png": "[encoded data removed]",
      "text/plain": [
       "<Figure size 432x288 with 1 Axes>"
      ]
     },
     "metadata": {
      "needs_background": "light"
     },
     "output_type": "display_data"
    }
   ],
   "source": [
    "plt.title(\"Mean\")\n",
    "plt.xlabel(\"samples\")\n",
    "plt.ylabel(\"f\")\n",
    "plt.plot(num_samples,means[:,1],\"+-\", label=\"mean\")\n",
    "plt.plot(num_samples,means[:,0],\"+-\", label=\"lower\")\n",
    "plt.plot(num_samples,means[:,2],\"+-\", label=\"upper\")\n"
   ]
  },
  {
   "cell_type": "markdown",
   "metadata": {},
   "source": [
    "### Plot Standard Deviation"
   ]
  },
  {
   "cell_type": "code",
   "execution_count": 4,
   "metadata": {},
   "outputs": [
    {
     "data": {
      "text/plain": [
       "[<matplotlib.lines.Line2D at 0x7f8280871790>]"
      ]
     },
     "execution_count": 4,
     "metadata": {},
     "output_type": "execute_result"
    },
    {
     "data": {
      "image/png": "[encoded data removed]",
      "text/plain": [
       "<Figure size 432x288 with 1 Axes>"
      ]
     },
     "metadata": {
      "needs_background": "light"
     },
     "output_type": "display_data"
    }
   ],
   "source": [
    "plt.title(\"std_deviations\")\n",
    "plt.xlabel(\"samples\")\n",
    "plt.ylabel(\"f\")\n",
    "plt.plot(num_samples,std_deviations[:,1],\"+-\", label=\"Standard Devaiation\")\n",
    "plt.plot(num_samples,std_deviations[:,0],\"+-\", label=\"lower\")\n",
    "plt.plot(num_samples,std_deviations[:,2],\"+-\", label=\"upper\")\n"
   ]
  },
  {
   "cell_type": "markdown",
   "metadata": {},
   "source": [
    "## Probability Levels\n",
    "\n",
    "The study also computed the 90th percentile on **f**."
   ]
  },
  {
   "cell_type": "code",
   "execution_count": 5,
   "metadata": {},
   "outputs": [],
   "source": [
    "# Use a context manager (i.e. \"with\") to ensure the file is closed properly\n",
    "with h5py.File(\"dakota_results.h5\",\"r\") as h:\n",
    "    # Create the results group object for convenience. Note that we specified 'my_sampling'\n",
    "    # as the id_method of our method in our Dakota input file.\n",
    "    results = h[\"/methods/my_sampling/results/execution:1\"]\n",
    "    # Get the number of increments\n",
    "    num_increments = len(results.keys())\n",
    "    num_samples = np.empty((num_increments,),int)  # storage for the number of samples in each\n",
    "                                                   # increment\n",
    "    plevels = np.empty((num_increments,)) # store the percentile for each increment\n",
    "    # We must construct the names of the increment groups to make sure we get them in the right\n",
    "    # order:\n",
    "    for i in range(num_increments):\n",
    "        inc_group = results[\"increment:%d\" % (i+1,)]\n",
    "        # The number of samples in the increment is stored in the samples attribute of the group.\n",
    "        # (Also, the TOTAL number of samples is stored in the samples attribute of the execution\n",
    "        # group)\n",
    "        num_samples[i] = inc_group.attrs[\"samples\"]\n",
    "        # percentile\n",
    "        plevels[i] = inc_group[\"probability_levels/f\"][0] # standard deviation\n",
    "    # To make this code snippet more generic, get the actual requested probability_level from the\n",
    "    # first increment. This information is stored in a dimension scale on the dataset. It's the\n",
    "    # scale for the 0th dimension, the 0th scale on that dimension, and the 0th item in that\n",
    "    # scale: dims[0][0][0]\n",
    "    req_level = results[\"increment:1/probability_levels/f\"].dims[0][0][0]\n",
    "        "
   ]
  },
  {
   "cell_type": "code",
   "execution_count": 6,
   "metadata": {},
   "outputs": [
    {
     "data": {
      "text/plain": [
       "[<matplotlib.lines.Line2D at 0x7f8290c04fa0>]"
      ]
     },
     "execution_count": 6,
     "metadata": {},
     "output_type": "execute_result"
    },
    {
     "data": {
      "image/png": "[encoded data removed]",
      "text/plain": [
       "<Figure size 432x288 with 1 Axes>"
      ]
     },
     "metadata": {
      "needs_background": "light"
     },
     "output_type": "display_data"
    }
   ],
   "source": [
    "plt.title(\"%gth Percentile\" % (100.0*req_level,))\n",
    "plt.xlabel(\"samples\")\n",
    "plt.ylabel(\"f\")\n",
    "plt.plot(num_samples,plevels,\"+-\", label=\"lower\")"
   ]
  },
  {
   "cell_type": "code",
   "execution_count": null,
   "metadata": {},
   "outputs": [],
   "source": []
  }
 ],
 "metadata": {
  "kernelspec": {
   "display_name": "Python 3",
   "language": "python",
   "name": "python3"
  },
  "language_info": {
   "codemirror_mode": {
    "name": "ipython",
    "version": 3
   },
   "file_extension": ".py",
   "mimetype": "text/x-python",
   "name": "python",
   "nbconvert_exporter": "python",
   "pygments_lexer": "ipython3",
   "version": "3.8.5"
  }
 },
 "nbformat": 4,
 "nbformat_minor": 4
}
